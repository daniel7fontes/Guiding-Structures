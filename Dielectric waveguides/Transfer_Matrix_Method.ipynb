{
 "cells": [
  {
   "cell_type": "markdown",
   "id": "2d25dbc8",
   "metadata": {},
   "source": [
    "$\\textbf{Student:}$ Carlos Daniel Fontes da Silva\\\n",
    "$\\textbf{E-mail:}$ carlos.fontes@ee.ufcg.edu.br"
   ]
  },
  {
   "cell_type": "markdown",
   "id": "3a87efb3",
   "metadata": {},
   "source": [
    "# Transfer Matrix Method"
   ]
  },
  {
   "attachments": {},
   "cell_type": "markdown",
   "id": "8f4fe264",
   "metadata": {},
   "source": [
    "This notebook shows a demonstration of the Transfer Matrix Method for field calculus in multilayer waveguides. This method was firstly introduced in the article $\\textit{\"The complex propagation constant of multilayer waveguides: an algorith for a personal computer\"}$, by Schlereth and Tacke (1990).\n",
    "Be a multilayer waveguide with Z layers as shows the figure below:"
   ]
  },
  {
   "attachments": {
    "multilayer_wg.png": {
     "image/png": "[encoded data removed]"
    }
   },
   "cell_type": "markdown",
   "id": "7a9bf24f",
   "metadata": {},
   "source": [
    "![multilayer_wg.png](attachment:multilayer_wg.png)"
   ]
  },
  {
   "cell_type": "markdown",
   "id": "a0e26975",
   "metadata": {},
   "source": [
    "The electric field in a TE solution in a planar dielectric waveguide has only the $E_y$ component. In a general form, the Helmholtz equation in a layer $j$ with refraction index $n_j$ can be written as:"
   ]
  },
  {
   "cell_type": "markdown",
   "id": "c4cff85b",
   "metadata": {},
   "source": [
    "$$\\dfrac{d^2E_y^j}{dx^2}  - (\\beta^2_j-k_o^2n_j^2)E_y^j = 0 \\to E_y^j = A_je^{\\alpha_j(x-t_{j-1})} + B_je^{-\\alpha_j(x-t_{j-1})}$$"
   ]
  },
  {
   "cell_type": "markdown",
   "id": "d1f3c4b4",
   "metadata": {},
   "source": [
    "The boundaries conditions predict that the electric field has to be the same in the junction interfaces of the layers, and by the equations of TE solution, its derivative in $x$ has this property too, so:"
   ]
  },
  {
   "cell_type": "markdown",
   "id": "cffb13ef",
   "metadata": {},
   "source": [
    "$$E_y^j(t_j) = E_y^{j+1}(t_{j})$$\n",
    "$$\\dfrac{dE_y^j(t_j)}{dx} = \\dfrac{dE_y^{j+1}(t_j)}{dx}$$"
   ]
  },
  {
   "cell_type": "markdown",
   "id": "d235df98",
   "metadata": {},
   "source": [
    "Applying this conditions to the solution, and being $\\sigma_j = \\alpha_j d_j = \\alpha_j(t_{j} - t_{j-1})$ we can find:"
   ]
  },
  {
   "cell_type": "markdown",
   "id": "6ac75888",
   "metadata": {},
   "source": [
    "$$\n",
    "A_je^{\\sigma_j} + B_je^{-\\sigma_j} = A_{j+1} + B_{j+1} \n",
    "$$\n",
    "$$\n",
    "A_j\\dfrac{\\alpha_j}{\\alpha_{j+1}}e^{\\sigma_j} - B_j\\dfrac{\\alpha_j}{\\alpha_{j+1}}e^{-\\sigma_j} = A_{j+1} - B_{j+1}\n",
    "$$"
   ]
  },
  {
   "cell_type": "markdown",
   "id": "9eab7c66",
   "metadata": {},
   "source": [
    "We can reorganize this in a matrix format this way:"
   ]
  },
  {
   "cell_type": "markdown",
   "id": "3977828c",
   "metadata": {},
   "source": [
    "$$\n",
    "\\begin{bmatrix}\n",
    "    A_{j+1} \\\\\n",
    "    B_{j+1} \n",
    "\\end{bmatrix}\n",
    "=\\dfrac{1}{2}\n",
    "\\begin{bmatrix}\n",
    "    \\Big( 1 + \\dfrac{\\alpha_j}{\\alpha_{j+1}} \\Big)e^{\\sigma_j} & \\Big( 1 - \\dfrac{\\alpha_j}{\\alpha_{j+1}} \\Big)e^{-\\sigma_j} \\\\\n",
    "    \\Big( 1 - \\dfrac{\\alpha_j}{\\alpha_{j+1}} \\Big)e^{\\sigma_j} & \\Big( 1 + \\dfrac{\\alpha_j}{\\alpha_{j+1}} \\Big)e^{-\\sigma_j}\n",
    "\\end{bmatrix}\n",
    "\\cdot\n",
    "\\begin{bmatrix}\n",
    "    A_j \\\\\n",
    "    B_j\n",
    "\\end{bmatrix}\n",
    "$$"
   ]
  },
  {
   "cell_type": "markdown",
   "id": "f82567bf",
   "metadata": {},
   "source": [
    "Note that:"
   ]
  },
  {
   "cell_type": "markdown",
   "id": "37269335",
   "metadata": {},
   "source": [
    "$$\n",
    "\\begin{bmatrix}\n",
    "    A \\\\\n",
    "    B \n",
    "\\end{bmatrix}_{j+1}\n",
    "=\n",
    "T_j\\cdot\n",
    "\\begin{bmatrix}\n",
    "    A \\\\\n",
    "    B\n",
    "\\end{bmatrix}_j\n",
    "\\to\n",
    "\\begin{bmatrix}\n",
    "    A \\\\\n",
    "    B\n",
    "\\end{bmatrix}_j\n",
    "=\n",
    "T_{j-1}\\cdot\n",
    "\\begin{bmatrix}\n",
    "    A \\\\\n",
    "    B\n",
    "\\end{bmatrix}_{j-1}\n",
    "= T_{j-1}\\cdots T_2 \\cdot T_1 \\cdot\n",
    "\\begin{bmatrix}\n",
    "    A \\\\\n",
    "    B\n",
    "\\end{bmatrix}_1\n",
    "$$"
   ]
  },
  {
   "cell_type": "markdown",
   "id": "7cf63418",
   "metadata": {},
   "source": [
    "So, being now $j = Z$, we'll have:"
   ]
  },
  {
   "cell_type": "markdown",
   "id": "c3d7df97",
   "metadata": {},
   "source": [
    "$$\n",
    "\\begin{bmatrix}\n",
    "    A \\\\\n",
    "    B\n",
    "\\end{bmatrix}_Z\n",
    "= \\prod_{k\\ =\\ Z-1}^1 T_k \\cdot \n",
    "\\begin{bmatrix}\n",
    "    A \\\\\n",
    "    B\n",
    "\\end{bmatrix}_1\n",
    "\\to\n",
    "\\begin{bmatrix}\n",
    "    A \\\\\n",
    "    B\n",
    "\\end{bmatrix}_Z\n",
    "= T_{WG} \\cdot \n",
    "\\begin{bmatrix}\n",
    "    A \\\\\n",
    "    B\n",
    "\\end{bmatrix}_1 \n",
    "\\, ,\\ T_{WG} = \n",
    "\\begin{bmatrix}\n",
    "    t_{11} & t_{12} \\\\\n",
    "    t_{21} & t_{22}\n",
    "\\end{bmatrix}\n",
    "$$"
   ]
  },
  {
   "cell_type": "markdown",
   "id": "64cba439",
   "metadata": {},
   "source": [
    "Considering that the field must be attenuated in the first and last layer, so:"
   ]
  },
  {
   "cell_type": "markdown",
   "id": "6fe7552a",
   "metadata": {},
   "source": [
    "$$\n",
    "\\begin{bmatrix}\n",
    "    0 \\\\\n",
    "    B\n",
    "\\end{bmatrix}_Z\n",
    "=\n",
    "\\begin{bmatrix}\n",
    "    t_{11} & t_{12} \\\\\n",
    "    t_{21} & t_{22}\n",
    "\\end{bmatrix}\n",
    "\\cdot\n",
    "\\begin{bmatrix}\n",
    "    A \\\\\n",
    "    0\n",
    "\\end{bmatrix}_1\n",
    "\\to t_{11}(\\beta) = 0\n",
    "$$"
   ]
  },
  {
   "cell_type": "markdown",
   "id": "bb215860",
   "metadata": {},
   "source": [
    "Solving this last equation will give us the TE propagated modes and their effective refraction index. Below, we will solve a problem present in the refered article, where a laser with five layers "
   ]
  },
  {
   "cell_type": "code",
   "execution_count": 27,
   "id": "4181508d",
   "metadata": {},
   "outputs": [],
   "source": [
    "import numpy as np\n",
    "from numpy.lib.scimath import sqrt as csqrt\n",
    "import matplotlib.pyplot as plt"
   ]
  },
  {
   "cell_type": "code",
   "execution_count": 28,
   "id": "c3bbb950",
   "metadata": {},
   "outputs": [],
   "source": [
    "n1 = 2.6 - 1j*36.5   # Metal layer\n",
    "n2 = 4.6             # Confinement layer\n",
    "n3 = 5.2             # Active layer\n",
    "n4 = 4.6             # Confinement layer\n",
    "n5 = 5.2 - 1j*0.01   # Substrate\n",
    "\n",
    "n = np.array([n1, n2, n3, n4, n5])\n",
    "d = 1e-6*np.array([0, 2, 0.5, 4, 1.5])\n",
    "t = np.array([-d[1], 0, d[1], d[2] + d[1], d[3] + d[2] + d[1], d[4] + d[3] + d[2] + d[1]])\n",
    "N = 1000\n",
    "x = np.zeros((len(n), N))"
   ]
  },
  {
   "cell_type": "code",
   "execution_count": 29,
   "id": "98cdcfcc",
   "metadata": {},
   "outputs": [],
   "source": [
    "λ = 6.7e-6\n",
    "k0 = 2*np.pi/λ\n",
    "neff = np.linspace(1.0001*n2, 0.999*n3, N)\n",
    "β = neff*k0"
   ]
  },
  {
   "cell_type": "code",
   "execution_count": 30,
   "id": "105300cc",
   "metadata": {},
   "outputs": [],
   "source": [
    "α = np.zeros((len(n), N), complex)\n",
    "σ = np.zeros((len(n), N), complex)\n",
    "\n",
    "for j in range(len(n)):\n",
    "    α[j, :] = csqrt(β**2 - (k0*n[j])**2)\n",
    "    σ[j, :] = α[j, :]*d[j]"
   ]
  },
  {
   "cell_type": "code",
   "execution_count": 31,
   "id": "8836da36",
   "metadata": {},
   "outputs": [
    {
     "name": "stdout",
     "output_type": "stream",
     "text": [
      "[4.74205451]\n"
     ]
    },
    {
     "data": {
      "image/png": "[encoded data removed]",
      "text/plain": [
       "<Figure size 720x432 with 1 Axes>"
      ]
     },
     "metadata": {
      "needs_background": "light"
     },
     "output_type": "display_data"
    }
   ],
   "source": [
    "Twg = np.array([[np.ones(N), np.zeros(N)], \n",
    "                [np.zeros(N), np.ones(N)]], complex)\n",
    "\n",
    "for j in reversed(range(len(n) - 1)):\n",
    "    Tj = 0.5*np.array([ [(1 + α[j,:]/α[j+1,:])*np.exp(σ[j, :]), (1 - α[j,:]/α[j+1,:])*np.exp(-σ[j, :])],   \n",
    "                      [(1 - α[j,:]/α[j+1,:])*np.exp(σ[j, :]), (1 + α[j,:]/α[j+1,:])*np.exp(-σ[j, :])] ] )\n",
    "    \n",
    "    for i in range(len(β)):\n",
    "        Twg[:,:,i] = np.dot(Twg[:,:,i], Tj[:,:,i])\n",
    "\n",
    "t11 = np.real(Twg[0,0,:])\n",
    "zero = np.where( t11 == abs(t11).min()); Neff = neff[zero]\n",
    "\n",
    "print(Neff)\n",
    "\n",
    "plt.figure(figsize = (10, 6))\n",
    "plt.plot(neff, t11)\n",
    "plt.scatter(Neff, np.zeros(len(Neff)))\n",
    "plt.xlabel(r'$n_{eff}$',fontsize = 12, fontstyle = 'italic')\n",
    "plt.ylabel(r'$t_{11}(\\beta$)',fontsize = 12, fontstyle = 'italic')\n",
    "plt.tick_params(axis = 'both', labelsize = 12)\n",
    "plt.ylim(-10, 10)\n",
    "plt.xlim(n2, n3)\n",
    "plt.grid()"
   ]
  },
  {
   "cell_type": "markdown",
   "id": "8dd1c93b",
   "metadata": {},
   "source": [
    "## Field profile"
   ]
  },
  {
   "cell_type": "code",
   "execution_count": 32,
   "id": "1378d7e7",
   "metadata": {},
   "outputs": [],
   "source": [
    "AB = np.zeros((2, len(n)), complex)\n",
    "AB[:,0] = np.array([1, 0])"
   ]
  },
  {
   "cell_type": "code",
   "execution_count": 33,
   "id": "f0f4fdf1",
   "metadata": {},
   "outputs": [],
   "source": [
    "α  = np.zeros(len(n), complex)\n",
    "σ  = np.zeros(len(n), complex)\n",
    "Tj = np.zeros((2, 2), complex)\n",
    "E = np.zeros((len(n), N), complex)\n",
    "\n",
    "β = k0*Neff\n",
    "\n",
    "for j in range(len(n)):\n",
    "    α[j] = csqrt(β**2 - (k0*n[j])**2)\n",
    "    σ[j] = α[j]*d[j]\n",
    "    x[j,:] = np.linspace(t[j],t[j+1],N)\n",
    "\n",
    "for j in range(len(n)-1):\n",
    "    Tj = 0.5*np.array([ [(1 + α[j]/α[j+1])*np.exp(σ[j]), (1 - α[j]/α[j+1])*np.exp(-σ[j]) ],\n",
    "                        [(1 - α[j]/α[j+1])*np.exp(σ[j]), (1 + α[j]/α[j+1])*np.exp(-σ[j]) ]])\n",
    "    AB[:,j+1] = np.dot(Tj, AB[:,j])"
   ]
  },
  {
   "cell_type": "code",
   "execution_count": 34,
   "id": "dd083f24",
   "metadata": {},
   "outputs": [
    {
     "data": {
      "image/png": "[encoded data removed]",
      "text/plain": [
       "<Figure size 720x432 with 1 Axes>"
      ]
     },
     "metadata": {
      "needs_background": "light"
     },
     "output_type": "display_data"
    }
   ],
   "source": [
    "plt.figure(figsize = (10,6))\n",
    "t[0] = 0\n",
    "\n",
    "color = ['b','orange','g','orange','m']\n",
    "\n",
    "for j in range(len(n)):\n",
    "    E[j,:] = AB[0,j]*np.exp(α[j]*(x[j,:] - t[j])) + AB[1,j]*np.exp(-α[j]*(x[j,:] - t[j]))\n",
    "\n",
    "for j in range(len(n)):\n",
    "    plt.plot(1e6*x[j,:],(np.real(E[j,:])/np.max(abs(E)))**2, color = 'k', lw = 2)\n",
    "    plt.fill_between(1e6*x[j,:], 0, 1., where = x[j,:] < max(x[j,:]), color = color[j], alpha=0.5)\n",
    "    plt.axvline(1e6*t[j+1], color = 'k', ls = '--')\n",
    "\n",
    "plt.xlabel('x [$\\mu m$]',fontsize = 14, fontstyle = 'italic')\n",
    "plt.ylabel('P', fontsize = 14, fontstyle = 'italic')\n",
    "plt.tick_params(axis = 'both', labelsize = 12)\n",
    "plt.xlim(0,1e6*max(x[len(n)-1,:]))\n",
    "plt.ylim(0, 1)\n",
    "plt.grid()"
   ]
  }
 ],
 "metadata": {
  "kernelspec": {
   "display_name": "Python 3",
   "language": "python",
   "name": "python3"
  },
  "language_info": {
   "codemirror_mode": {
    "name": "ipython",
    "version": 3
   },
   "file_extension": ".py",
   "mimetype": "text/x-python",
   "name": "python",
   "nbconvert_exporter": "python",
   "pygments_lexer": "ipython3",
   "version": "3.8.8"
  }
 },
 "nbformat": 4,
 "nbformat_minor": 5
}
